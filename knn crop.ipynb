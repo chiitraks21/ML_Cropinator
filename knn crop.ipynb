{
 "cells": [
  {
   "cell_type": "code",
   "execution_count": 343,
   "metadata": {},
   "outputs": [],
   "source": [
    "import numpy as np\n",
    "import pandas as pd\n",
    "import matplotlib.pyplot as plt\n",
    "from sklearn.model_selection import train_test_split\n",
    "from sklearn.neighbors import KNeighborsClassifier\n",
    "from sklearn.preprocessing import MinMaxScaler\n",
    "from sklearn import neighbors\n",
    "from sklearn import preprocessing\n",
    "from mlxtend.plotting import plot_decision_regions"
   ]
  },
  {
   "cell_type": "code",
   "execution_count": 344,
   "metadata": {},
   "outputs": [
    {
     "data": {
      "text/html": [
       "<div>\n",
       "<style scoped>\n",
       "    .dataframe tbody tr th:only-of-type {\n",
       "        vertical-align: middle;\n",
       "    }\n",
       "\n",
       "    .dataframe tbody tr th {\n",
       "        vertical-align: top;\n",
       "    }\n",
       "\n",
       "    .dataframe thead th {\n",
       "        text-align: right;\n",
       "    }\n",
       "</style>\n",
       "<table border=\"1\" class=\"dataframe\">\n",
       "  <thead>\n",
       "    <tr style=\"text-align: right;\">\n",
       "      <th></th>\n",
       "      <th>crop_label</th>\n",
       "      <th>crop_name</th>\n",
       "      <th>rainfall</th>\n",
       "      <th>fav_temp</th>\n",
       "    </tr>\n",
       "  </thead>\n",
       "  <tbody>\n",
       "    <tr>\n",
       "      <th>0</th>\n",
       "      <td>1</td>\n",
       "      <td>rice</td>\n",
       "      <td>1750</td>\n",
       "      <td>25</td>\n",
       "    </tr>\n",
       "    <tr>\n",
       "      <th>1</th>\n",
       "      <td>1</td>\n",
       "      <td>rice</td>\n",
       "      <td>2000</td>\n",
       "      <td>27</td>\n",
       "    </tr>\n",
       "    <tr>\n",
       "      <th>2</th>\n",
       "      <td>1</td>\n",
       "      <td>rice</td>\n",
       "      <td>1800</td>\n",
       "      <td>29</td>\n",
       "    </tr>\n",
       "    <tr>\n",
       "      <th>3</th>\n",
       "      <td>1</td>\n",
       "      <td>rice</td>\n",
       "      <td>2450</td>\n",
       "      <td>31</td>\n",
       "    </tr>\n",
       "    <tr>\n",
       "      <th>4</th>\n",
       "      <td>1</td>\n",
       "      <td>rice</td>\n",
       "      <td>2900</td>\n",
       "      <td>34</td>\n",
       "    </tr>\n",
       "  </tbody>\n",
       "</table>\n",
       "</div>"
      ],
      "text/plain": [
       "   crop_label crop_name  rainfall  fav_temp\n",
       "0           1      rice      1750        25\n",
       "1           1      rice      2000        27\n",
       "2           1      rice      1800        29\n",
       "3           1      rice      2450        31\n",
       "4           1      rice      2900        34"
      ]
     },
     "execution_count": 344,
     "metadata": {},
     "output_type": "execute_result"
    }
   ],
   "source": [
    "#importing the csv file or dataset\n",
    "crops = pd.read_csv(r'C:\\Users\\Chiitrak Sarkar\\Desktop\\crop.csv',engine='python')\n",
    "crop_feature_name = ['rainfall','fav_temp'] \n",
    "x_crops = crops[crop_feature_name]       #naming the parameters\n",
    "y_crops = crops['crop_label']            #naming the 5 labels\n",
    "crop_name = ['rice','maize','wheat','millet','rabi']\n",
    "crops_plot = crops\n",
    "#crops.head()    #un-comment to print first 5 rows of dataset"
   ]
  },
  {
   "cell_type": "code",
   "execution_count": 345,
   "metadata": {},
   "outputs": [],
   "source": [
    "#train-test splitting of available data\n",
    "# 75:25 train:test division\n",
    "x_crops2d = crops[crop_feature_name]\n",
    "y_crops2d = crops['crop_label']\n",
    "X_train, X_test, y_train, y_test = train_test_split(x_crops2d, y_crops2d, random_state=1)\n",
    "\n",
    "#rescaling features\n",
    "#Creating a minimum and maximum processor object\n",
    "scaler = MinMaxScaler()\n",
    "x_plot = scaler.fit_transform(x_crops2d)\n",
    "X_train_scaled = scaler.fit_transform(X_train)\n",
    "X_test_scaled = scaler.transform(X_test)\n",
    "df_normalized = pd.DataFrame(x_plot)\n",
    "\n",
    "df_normalized.columns = [\"rainfall\",\"fav_temp\"]\n",
    "df_normalized1= df_normalized*4"
   ]
  },
  {
   "cell_type": "code",
   "execution_count": 346,
   "metadata": {},
   "outputs": [
    {
     "name": "stdout",
     "output_type": "stream",
     "text": [
      "Accuracy of K-NN classifier on training set: 0.88\n",
      "Accuracy of K-NN classifier on test set: 0.92\n"
     ]
    }
   ],
   "source": [
    "#knn model\n",
    "knn = KNeighborsClassifier(n_neighbors = 3)  \n",
    "knn.fit(X_train_scaled, y_train)            #fitting done\n",
    "\n",
    "#Accuracy calculation\n",
    "#Checking performance on the training set\n",
    "print('Accuracy of K-NN classifier on training set: {:.2f}'.format(knn.score(X_train_scaled, y_train)))\n",
    "#Checking performance on the test set\n",
    "print('Accuracy of K-NN classifier on test set: {:.2f}'.format(knn.score(X_test_scaled, y_test)))"
   ]
  },
  {
   "cell_type": "code",
   "execution_count": 347,
   "metadata": {},
   "outputs": [
    {
     "name": "stdout",
     "output_type": "stream",
     "text": [
      "Predicted crop type for  [[750, 25]]  is  maize\n"
     ]
    }
   ],
   "source": [
    "#MAIN FEATURE OF THE MODEL : PREDICTING THE TYPE OF CROP BY TAKING REAL TIME INPUT THROUGH SENSORS\n",
    "example_crop = [[750,25]]\n",
    "example_crop_scaled = scaler.transform(example_crop)\n",
    "#Making an prediction based on the 2 parameters \n",
    "print('Predicted crop type for ', example_crop, ' is ', \n",
    "          crop_name[knn.predict(example_crop_scaled)[0]-1])"
   ]
  },
  {
   "cell_type": "code",
   "execution_count": 348,
   "metadata": {},
   "outputs": [
    {
     "data": {
      "image/png": "[encoded data removed]",
      "text/plain": [
       "<Figure size 432x288 with 1 Axes>"
      ]
     },
     "metadata": {
      "needs_background": "light"
     },
     "output_type": "display_data"
    }
   ],
   "source": [
    "#plotting data\n",
    "x = df_normalized1[['rainfall','fav_temp']].values\n",
    "y = crops_plot['crop_label'].astype(int).values\n",
    "clf = neighbors.KNeighborsClassifier(n_neighbors=3)\n",
    "clf.fit(x, y)\n",
    "# Plotting decision region\n",
    "plot_decision_regions(x, y, clf=clf, legend=2)\n",
    "# Adding axes annotations\n",
    "plt.xlabel('rainfall (mm)')\n",
    "plt.ylabel('fav_temp (degree C)')\n",
    "plt.title('Knn with K='+ str(3))\n",
    "plt.show()"
   ]
  },
  {
   "cell_type": "code",
   "execution_count": null,
   "metadata": {},
   "outputs": [],
   "source": []
  }
 ],
 "metadata": {
  "kernelspec": {
   "display_name": "Python 3",
   "language": "python",
   "name": "python3"
  },
  "language_info": {
   "codemirror_mode": {
    "name": "ipython",
    "version": 3
   },
   "file_extension": ".py",
   "mimetype": "text/x-python",
   "name": "python",
   "nbconvert_exporter": "python",
   "pygments_lexer": "ipython3",
   "version": "3.8.7"
  }
 },
 "nbformat": 4,
 "nbformat_minor": 4
}
